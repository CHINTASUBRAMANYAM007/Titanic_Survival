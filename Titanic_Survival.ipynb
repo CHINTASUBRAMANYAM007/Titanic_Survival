{
  "metadata": {
    "kernelspec": {
      "name": "python",
      "display_name": "Python (Pyodide)",
      "language": "python"
    },
    "language_info": {
      "name": ""
    }
  },
  "nbformat_minor": 4,
  "nbformat": 4,
  "cells": [
    {
      "cell_type": "code",
      "source": "# Import necessary libraries\nimport pandas as pd\nimport numpy as np\nimport matplotlib.pyplot as plt\nimport seaborn as sns\nfrom sklearn.model_selection import train_test_split\nfrom sklearn.ensemble import RandomForestClassifier\nfrom sklearn.metrics import accuracy_score, classification_report, confusion_matrix\n",
      "metadata": {
        "trusted": true
      },
      "outputs": [],
      "execution_count": null
    },
    {
      "cell_type": "code",
      "source": "# Load the dataset\ndata_path = r\"C:\\Users\\subra\\Desktop\\Projects\\Codsoft\\Titanic_Survival\\data\\titanic.csv\"\ndf = pd.read_csv(data_path)",
      "metadata": {
        "trusted": true
      },
      "outputs": [],
      "execution_count": null
    },
    {
      "cell_type": "code",
      "source": "# Display basic information about the dataset\nprint(\"First five rows of the dataset:\")\nprint(df.head())\n\nprint(\"\\nSummary statistics of the dataset:\")\nprint(df.describe(include='all'))\n\nprint(\"\\nDataset information:\")\nprint(df.info())",
      "metadata": {
        "trusted": true
      },
      "outputs": [],
      "execution_count": null
    },
    {
      "cell_type": "code",
      "source": "# Check for missing values\nprint(\"\\nMissing values in the dataset:\")\nprint(df.isnull().sum())\n",
      "metadata": {
        "trusted": true
      },
      "outputs": [],
      "execution_count": null
    },
    {
      "cell_type": "code",
      "source": "# Handle missing values\ndf['Age'].fillna(df['Age'].median(), inplace=True)  # Fill missing ages with the median\ndf['Embarked'].fillna(df['Embarked'].mode()[0], inplace=True)  # Fill missing embarked with mode\ndf.drop(columns=['Cabin'], inplace=True)  # Drop Cabin due to too many missing values\n",
      "metadata": {
        "trusted": true
      },
      "outputs": [],
      "execution_count": null
    },
    {
      "cell_type": "code",
      "source": "# Exploratory Data Analysis (EDA)\n# Survival rate\nprint(\"\\nSurvival Rate:\")\nprint(df['Survived'].value_counts(normalize=True))\n\nsns.countplot(x='Survived', data=df, palette='viridis')\nplt.title(\"Survival Count\")\nplt.xlabel(\"Survived (0 = No, 1 = Yes)\")\nplt.ylabel(\"Count\")\nplt.show()\n",
      "metadata": {
        "trusted": true
      },
      "outputs": [],
      "execution_count": null
    },
    {
      "cell_type": "code",
      "source": "# Gender vs Survival\nsns.countplot(x='Survived', hue='Sex', data=df, palette='Set2')\nplt.title(\"Survival by Gender\")\nplt.xlabel(\"Survived (0 = No, 1 = Yes)\")\nplt.ylabel(\"Count\")\nplt.show()\n",
      "metadata": {
        "trusted": true
      },
      "outputs": [],
      "execution_count": null
    },
    {
      "cell_type": "code",
      "source": "# Class vs Survival\nsns.countplot(x='Survived', hue='Pclass', data=df, palette='coolwarm')\nplt.title(\"Survival by Passenger Class\")\nplt.xlabel(\"Survived (0 = No, 1 = Yes)\")\nplt.ylabel(\"Count\")\nplt.show()\n",
      "metadata": {
        "trusted": true
      },
      "outputs": [],
      "execution_count": null
    },
    {
      "cell_type": "code",
      "source": "# Age Distribution\nsns.histplot(df['Age'], kde=True, bins=30, color='blue')\nplt.title(\"Age Distribution\")\nplt.xlabel(\"Age\")\nplt.ylabel(\"Frequency\")\nplt.show()",
      "metadata": {
        "trusted": true
      },
      "outputs": [],
      "execution_count": null
    },
    {
      "cell_type": "code",
      "source": "# Feature Engineering\n# Convert categorical columns to numerical\ndf['Sex'] = df['Sex'].map({'male': 0, 'female': 1})\ndf['Embarked'] = df['Embarked'].map({'C': 0, 'Q': 1, 'S': 2})",
      "metadata": {
        "trusted": true
      },
      "outputs": [],
      "execution_count": null
    },
    {
      "cell_type": "code",
      "source": "# Drop unnecessary columns\ndf.drop(columns=['Name', 'Ticket'], inplace=True)\n",
      "metadata": {
        "trusted": true
      },
      "outputs": [],
      "execution_count": null
    },
    {
      "cell_type": "code",
      "source": "# Feature and target selection\nX = df.drop(columns=['Survived'])  # Features\ny = df['Survived']                # Target\n",
      "metadata": {
        "trusted": true
      },
      "outputs": [],
      "execution_count": null
    },
    {
      "cell_type": "code",
      "source": "# Train-test split\nX_train, X_test, y_train, y_test = train_test_split(X, y, test_size=0.3, random_state=42)\n",
      "metadata": {
        "trusted": true
      },
      "outputs": [],
      "execution_count": null
    },
    {
      "cell_type": "code",
      "source": "# Train the model using Random Forest Classifier\nmodel = RandomForestClassifier(random_state=42)\nmodel.fit(X_train, y_train)\n",
      "metadata": {
        "trusted": true
      },
      "outputs": [],
      "execution_count": null
    },
    {
      "cell_type": "code",
      "source": "# Make predictions\ny_pred = model.predict(X_test)\n",
      "metadata": {
        "trusted": true
      },
      "outputs": [],
      "execution_count": null
    },
    {
      "cell_type": "code",
      "source": "# Evaluate the model\nprint(\"\\nAccuracy of the model:\")\nprint(accuracy_score(y_test, y_pred))\n\nprint(\"\\nClassification Report:\")\nprint(classification_report(y_test, y_pred))\n\n",
      "metadata": {
        "trusted": true
      },
      "outputs": [],
      "execution_count": null
    },
    {
      "cell_type": "code",
      "source": "# Confusion Matrix\nconf_matrix = confusion_matrix(y_test, y_pred)\nsns.heatmap(conf_matrix, annot=True, fmt='d', cmap='Blues', xticklabels=['Did Not Survive', 'Survived'], yticklabels=['Did Not Survive', 'Survived'])\nplt.title(\"Confusion Matrix\")\nplt.xlabel(\"Predicted\")\nplt.ylabel(\"Actual\")\nplt.show()\n",
      "metadata": {
        "trusted": true
      },
      "outputs": [],
      "execution_count": null
    }
  ]
}